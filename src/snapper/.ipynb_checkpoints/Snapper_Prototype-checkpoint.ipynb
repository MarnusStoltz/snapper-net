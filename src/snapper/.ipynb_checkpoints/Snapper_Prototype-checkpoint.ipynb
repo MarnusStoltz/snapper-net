{
 "cells": [
  {
   "cell_type": "code",
   "execution_count": null,
   "metadata": {},
   "outputs": [],
   "source": [
    "from bs4 import BeautifulSoup\n",
    "import sys\n",
    "\n",
    "def logL(x):\n",
    "    \n",
    "    #print(seq1[10],seq2[10])\n",
    "    LogL = 0\n",
    "    #len(seq1) -1\n",
    "    for i in range(1,100): \n",
    "        \n",
    "        #Tree structure, this should come from a .nex file\n",
    "        N = 20\n",
    "        #Sample size per loci\n",
    "        n = 100\n",
    "        T = Tree(np.array([[1,2],[3,4],[5,6]]),np.array([5,5,6,7,6,7]),x)\n",
    "        #T = Tree(np.array([[1,2]]),np.array([3,3]),x)\n",
    "        #Given frequency\n",
    "        C = np.array([int(seq1[i]),int(seq2[i]),int(seq3[i]),int(seq4[i])])\n",
    "        #Get Chebychev Coefficients of initial condition\n",
    "        CC = np.zeros([len(C),N+1])\n",
    "        for i in range(0,len(C)):\n",
    "            CC[i] = Chebychev_transform2(n_sample,C[i],N) \n",
    "        #selection and mutation (multiply u,v by 2)    \n",
    "        a = np.array([[0.006,-0.012,0,0],[0.005,-0.01,0,0]])\n",
    "        #genetic drift\n",
    "        b = np.array([0,0.5,-0.5,0])\n",
    "        LogL += Tree_integrator(T,C,N,n,CC,a,b)\n",
    "    return LogL\n",
    "\n",
    "\n",
    "def BranchSupp(x):\n",
    "\treturn all(0 < x )&all(x < 20)\n",
    "###          we define the objective function with the U function\n",
    "###          which is -log of the density function.\n",
    "###          The support is defined in a separate function.\n",
    "###   The dimension of the parameter space is n\n",
    "\n",
    "'''Get the SimSnap simulations into format '''\n",
    "handler = open(\"testSimSnap_tree_1.xml\",\"r\" )\n",
    "contents = handler.read()\n",
    "soup = BeautifulSoup(contents,'xml')\n",
    "sequence = soup.find_all('sequence')\n",
    "seq1 = sequence[0].text\n",
    "seq2 = sequence[1].text\n",
    "seq3 = sequence[2].text\n",
    "seq4 = sequence[3].text\n",
    "seq1 = seq1.split(\",\")\n",
    "seq2 = seq2.split(\",\")\n",
    "seq3 = seq3.split(\",\")\n",
    "seq4 = seq4.split(\",\")\n",
    "\n",
    "Tree_Inference = pytwalk( n=6, U=logL, Supp=BranchSupp)\n",
    "\n",
    "#### This would run the twalk\n",
    "\n",
    "Tree_Inference.Run( T=10000, x0=1*np.ones(6), xp0=2*np.ones(6))\n",
    "\n",
    "Tree_Inference.Save(\"Tree_Inference_twalk1.dat\")\n",
    "\n",
    "#Gets output into Tracer format\n",
    "x = Tree_Inference.Output\n",
    "n = np.shape(x)\n",
    "z = np.zeros([int(n[0])+1, int(n[1])+1])\n",
    "z[1:,1:] = x\n",
    "y = np.arange(0,n[0] +1)\n",
    "z[:,0] = y\n",
    "header = np.arange(1,n[1]+1)\n",
    "header_str = str(np.arange(1,n[1]+1))\n",
    "header_str = header_str[1:-1]\n",
    "header_str = header_str.replace(\" \", \"\\t\")\n",
    "np.savetxt( 'test.log', z, delimiter='\\t', header='state' + header_str )\n",
    "\n",
    "#Tree_Inference.Ana\n",
    "#Tree_Inference.Hist( par=0 )\n",
    "\n",
    "#plt.show()\n",
    "#Tree_Inference.Hist( par=1 )\n",
    "#plt.show()\n",
    "#Tree_Inference.Hist( par=2 )\n",
    "#plt.show()\n",
    "#Tree_Inference.Hist( par=3 )\n",
    "#plt.show()\n",
    "#Tree_Inference.Hist( par=4 )\n",
    "#plt.show()\n",
    "#Tree_Inference.Hist( par=5 )\n",
    "#plt.show()\n"
   ]
  },
  {
   "cell_type": "code",
   "execution_count": 45,
   "metadata": {},
   "outputs": [
    {
     "data": {
      "image/png": "[encoded data removed]",
      "text/plain": [
       "<Figure size 432x288 with 1 Axes>"
      ]
     },
     "metadata": {
      "needs_background": "light"
     },
     "output_type": "display_data"
    },
    {
     "data": {
      "image/png": "[encoded data removed]",
      "text/plain": [
       "<Figure size 432x288 with 1 Axes>"
      ]
     },
     "metadata": {
      "needs_background": "light"
     },
     "output_type": "display_data"
    },
    {
     "data": {
      "text/plain": [
       "20.750891822175635"
      ]
     },
     "execution_count": 45,
     "metadata": {},
     "output_type": "execute_result"
    }
   ],
   "source": [
    "%matplotlib inline\n",
    "import scipy.integrate as integrate\n",
    "import scipy as sp\n",
    "import scipy.stats as sps\n",
    "import numpy as np\n",
    "import numpy.polynomial.chebyshev as ch\n",
    "from numpy.linalg import inv\n",
    "from scipy.linalg import expm\n",
    "import matplotlib.pyplot as plt\n",
    "import numpy.polynomial.chebyshev as ch\n",
    "#from pytwalk import * \n",
    "\n",
    "\n",
    "\n",
    "class Tree:\n",
    "    def __init__(self,structure_pc, structure_cp, time):\n",
    "        self.structure_pc = structure_pc \n",
    "        self.structure_cp = structure_cp\n",
    "        self.time = time\n",
    "        \n",
    "def x_times_Tx(N): #Transpose of Operator B defined as x*f(x) (Gordon's thesis Propositon.5 page. 78)\n",
    "    B = sp.sparse.diags([0.25, 0.5, 0.25], [-1, 0, 1], shape=(N, N)).toarray()\n",
    "    B[1,0] = 0.5\n",
    "    return B\n",
    "\n",
    "def Chebychev_transform2(n,m,N):\n",
    "    circle = np.arange(0,np.pi+1/n,1/n)\n",
    "    x = (np.cos(circle) + 1)/2\n",
    "    f = sps.binom.pmf(m, n, x, loc=0)\n",
    "    #specify Chebychev bases\n",
    "    chebexp_shift = ch.Chebyshev.fit(x,f,N,domain=[0,1])\n",
    "    return chebexp_shift.coef\n",
    "\n",
    "def Dd(N): #Derivative operator\n",
    "    D = np.zeros([N,N])\n",
    "    D[0,np.arange(1,N,2)] = 2*np.arange(1,N,2)\n",
    "    for i in range(0,N-2):\n",
    "        D[i+1,np.arange(i+2,N,2)] = 4*(np.arange(i+1,N-1,2)+1)\n",
    "    return D\n",
    "\n",
    "def Tree_integrator(T,C,N,n_sample,CC,a,b): \n",
    "    nnodes = np.shape(T.structure_cp)[0] + 1\n",
    "    n = (nnodes+1.)/2.\n",
    "    F = np.zeros([N,nnodes])\n",
    "    logL = 0\n",
    "    circle = np.arange(0,np.pi+1/n_sample,1/n_sample)\n",
    "    p = (np.cos(circle) + 1)/2\n",
    "    #4.5 Proposition 5 Operator B\n",
    "    S = x_times_Tx(N)\n",
    "    S2 = np.dot(S,S)\n",
    "    S3 = np.dot(S2,S)\n",
    "    #First Derivative       \n",
    "    D = Dd(N)\n",
    "    #Second Derivative\n",
    "    D2 = np.dot(D,D)\n",
    "    #Q-matrix (although it's called M)\n",
    "    M = (a[0,0]*D) + (a[0,1]*np.dot(S,D)) + (a[0,2]*np.dot(S2,D)) + (a[0,3]*np.dot(S3,D)) + .5*((b[0]*D2) + (b[1]*np.dot(S,D2)) + (b[2]*np.dot(S2,D2))) \n",
    "    \n",
    "    #---step1-a---    \n",
    "    j=0\n",
    "    for i in range(0,int(n)): \n",
    "        tt = T.time[i] #branch length\n",
    "        #these points have to be consistent with the number of points\n",
    "        cc = CC[i,:]   \n",
    "        j += 1\n",
    "#---step1-b,c---\n",
    "        F[:,i] = np.transpose(np.dot(expm(M*tt),cc[:-1]))\n",
    "#---step2---  \n",
    "    #Adhoc for now\n",
    "    M = (a[1,0]*D) + (a[1,1]*np.dot(S,D)) + (a[1,2]*np.dot(S2,D)) + (a[1,3]*np.dot(S3,D)) + .5*((b[0]*D2) + (b[1]*np.dot(S,D2)) + (b[2]*np.dot(S2,D2))) \n",
    "    \n",
    "    for i in range(int(n),nnodes-1):\n",
    "#---step2-a,b,c---\n",
    "        u = T.structure_pc[i - int(n),0]\n",
    "        v = T.structure_pc[i - int(n),1]\n",
    "        F1 = F[:,u-1]\n",
    "        F2 = F[:,v-1]\n",
    "        tt = T.time[i]\n",
    "#---step2d---\n",
    "#   4.3.3  Proposition 1\n",
    "        F1chebpts = ch.chebval(2*p-1,  F1)\n",
    "        F2chebpts = ch.chebval(2*p-1,  F2)\n",
    "        Ffit = ch.Chebyshev.fit(p,F1chebpts*F2chebpts,N,domain=[0,1])\n",
    "        cc = Ffit.coef            \n",
    "#---step2-e,f---\n",
    "        F[:,i] = np.transpose((np.dot(expm(M*tt),cc[:-1])))\n",
    "#---step3---    \n",
    "    r = nnodes - 1\n",
    "    u = T.structure_pc[r - int(n),0]\n",
    "    v = T.structure_pc[r - int(n),1]\n",
    "#---step4,5---\n",
    "    F1 = F[:,u-1]\n",
    "    F2 = F[:,v-1]\n",
    "#---step6--- #The root branch has zero length    \n",
    "    f = lambda p: ch.chebval(2*p-1, F1)*ch.chebval(2*p-1, F2)*sps.beta.pdf(p,0.006,0.006)\n",
    "    result = integrate.quad(f, 0, 1)\n",
    "#---step7---    \n",
    "    like = result[0]\n",
    "    #print(like)\n",
    "    if 1>=like>=0:\n",
    "        logL = np.log(like)\n",
    "    else:\n",
    "        logL = -10000   \n",
    "    return -logL\n",
    "\n",
    "#Tree structure, this should come from a .nex file\n",
    "T = Tree(np.array([[1,2],[3,4],[5,6]]),np.array([5,5,6,7,6,7]),np.array([0.1,0.1,0.1,0.1,0.1,0.1]))\n",
    "#T = Tree(np.array([[1,2]]),np.array([3,3]),np.array([0.1,1]))\n",
    "#Sample size\n",
    "n = 100\n",
    "# Number of red alleles\n",
    "C = np.array([60,70, 65,50])\n",
    "#Chebychev basis\n",
    "N = 10\n",
    "#Get Chebychev Coefficients of initial condition\n",
    "CC = np.zeros([len(C),N+1])\n",
    "for i in range(0,len(C)):\n",
    "    CC[i] = Chebychev_transform2(n,C[i],N)  \n",
    "#selection and mutation    \n",
    "a = np.array([[.5,-1,0,0],[.4,-0.5,0,0]])\n",
    "#genetic drift\n",
    "b = np.array([0,0.5,-0.5,0])\n",
    "#Return -likelihood\n",
    "Tree_integrator(T,C,N,n,CC,a,b)"
   ]
  },
  {
   "cell_type": "code",
   "execution_count": 1,
   "metadata": {},
   "outputs": [
    {
     "ename": "NameError",
     "evalue": "name 'ch' is not defined",
     "output_type": "error",
     "traceback": [
      "\u001b[0;31m---------------------------------------------------------------------------\u001b[0m",
      "\u001b[0;31mNameError\u001b[0m                                 Traceback (most recent call last)",
      "\u001b[0;32m<ipython-input-1-d1a41bae162c>\u001b[0m in \u001b[0;36m<module>\u001b[0;34m()\u001b[0m\n\u001b[0;32m----> 1\u001b[0;31m \u001b[0mhelp\u001b[0m\u001b[0;34m(\u001b[0m\u001b[0mch\u001b[0m\u001b[0;34m.\u001b[0m\u001b[0mChebyshev\u001b[0m\u001b[0;34m.\u001b[0m\u001b[0mfit\u001b[0m\u001b[0;34m)\u001b[0m\u001b[0;34m\u001b[0m\u001b[0m\n\u001b[0m",
      "\u001b[0;31mNameError\u001b[0m: name 'ch' is not defined"
     ]
    }
   ],
   "source": [
    "help(ch.Chebyshev.fit)"
   ]
  },
  {
   "cell_type": "code",
   "execution_count": 9,
   "metadata": {},
   "outputs": [
    {
     "name": "stdout",
     "output_type": "stream",
     "text": [
      "[1.         0.96984631 0.88302222 0.75       0.58682409 0.41317591\n",
      " 0.25       0.11697778 0.03015369 0.        ]\n",
      "[0.00000000e+00 8.45341774e-11 2.55475097e-05 9.92227528e-03\n",
      " 1.29726236e-01 1.29726236e-01 9.92227528e-03 2.55475097e-05\n",
      " 8.45341774e-11 0.00000000e+00]\n",
      "[ 3.10386798e-02 -9.74462778e-19 -5.63819947e-02  1.25125528e-17\n",
      "  4.19515190e-02 -2.37061390e-17 -2.44238296e-02  1.09142675e-17\n",
      "  7.81562546e-03  2.11399078e-18]\n"
     ]
    }
   ],
   "source": [
    "def Chebychev_transform2(n,m,N):\n",
    "    circle = np.arange(0,np.pi+np.pi/N,np.pi/N)\n",
    "    x = (np.cos(circle) + 1)/2\n",
    "    print(x)\n",
    "    f = sps.binom.pmf(m, n, x, loc=0)\n",
    "    #specify Chebychev bases\n",
    "    print(f)\n",
    "    chebexp_shift = ch.Chebyshev.fit(x,f,N,domain=[0,1])\n",
    "    return chebexp_shift.coef\n",
    "\n",
    "n = 20\n",
    "m = 10\n",
    "N =9\n",
    "print(Chebychev_transform2(n,m,N))"
   ]
  },
  {
   "cell_type": "code",
   "execution_count": 23,
   "metadata": {},
   "outputs": [
    {
     "name": "stdout",
     "output_type": "stream",
     "text": [
      "Coefficient Values\n",
      "[ 0.31992029 -0.24428878  0.08330798  0.04250857 -0.08598662  0.08899743\n",
      " -0.08598662  0.04250857  0.08330798 -0.24428878]\n",
      "Function Values\n",
      "[0.         0.         0.00012208 0.02627441 0.10210734 0.0629126\n",
      " 0.10210734 0.02627441 0.00012208 0.        ]\n",
      "differnece\n",
      "(6.4211873665454e-17+0j)\n"
     ]
    }
   ],
   "source": [
    "import numpy as np\n",
    "\n",
    "values = np.array([0,2.06094e-19,8.74687e-11,3.4265e-06,0.00188369,0.0629126,0.202331,0.0525454,0.000244169,0])\n",
    "\n",
    "coeff = np.fft.fft(values)\n",
    "coeff = np.real(coeff)\n",
    "print(\"Coefficient Values\")\n",
    "print(coeff)\n",
    "\n",
    "values2 = np.fft.ifft(coeff)\n",
    "print(\"Function Values\")\n",
    "print(np.real(values2))\n",
    "print(\"difference\")\n",
    "print(np.sum(values - values2))"
   ]
  },
  {
   "cell_type": "code",
   "execution_count": 46,
   "metadata": {},
   "outputs": [
    {
     "name": "stdout",
     "output_type": "stream",
     "text": [
      "[0.2309234  0.30840844 0.36085197 0.39322287 0.40992208 0.41482523\n",
      " 0.41132306 0.40235977 0.39046931 0.37780963 0.36619512 0.35712715\n",
      " 0.3518229  0.35124243 0.3561142  0.3669589  0.38411192 0.40774428\n",
      " 0.43788217 0.47442524 0.5171635  0.56579316 0.61993114 0.67912857\n",
      " 0.74288326 0.81065102 0.88185619 0.95590111 1.03217482 1.11006088\n",
      " 1.18894442 1.26821847 1.34728956 1.42558265 1.50254551 1.57765241\n",
      " 1.65040736 1.72034671 1.78704144 1.85009881 1.90916374 1.96391973\n",
      " 2.0140894  2.05943477 2.09975717 2.13489689 2.1647326  2.18918048\n",
      " 2.20819321 2.22175872 2.2298988  2.23266756 2.23014975 2.222459\n",
      " 2.20973594 2.19214626 2.1698787  2.14314302 2.11216788 2.0771988\n",
      " 2.03849602 1.99633243 1.95099146 1.90276506 1.85195167 1.79885428\n",
      " 1.74377849 1.68703065 1.62891612 1.5697375  1.50979306 1.44937516\n",
      " 1.38876879 1.32825021 1.26808571 1.20853039 1.14982711 1.09220556\n",
      " 1.03588134 0.98105521 0.92791248 0.87662239 0.82733772 0.78019442\n",
      " 0.73531135 0.69279019 0.65271532 0.61515394 0.58015614 0.5477552\n",
      " 0.51796787 0.49079476 0.46622085 0.44421601 0.42473563 0.40772136\n",
      " 0.39310176 0.38079321 0.37070069 0.36271875 0.3567324  0.35261812\n",
      " 0.35024487 0.34947512 0.35016592 0.35216997 0.35533667 0.35951324\n",
      " 0.36454578 0.37028034 0.37656398 0.38324581 0.39017799 0.39721675\n",
      " 0.40422329 0.41106471 0.41761489 0.42375525 0.42937559 0.43437472\n",
      " 0.43866113 0.44215357 0.44478153 0.44648569 0.44721824 0.44694321\n",
      " 0.4456366  0.44328654 0.43989327 0.43546909 0.43003824 0.42363661\n",
      " 0.41631142 0.40812083 0.39913341 0.38942752 0.3790907  0.36821882\n",
      " 0.35691531 0.34529019 0.33345908 0.32154215 0.30966297 0.29794734\n",
      " 0.28652201 0.2755134  0.26504628 0.25524239 0.24621906 0.23808777\n",
      " 0.2309528  0.22490977 0.22004431 0.21643064 0.21413031 0.21319095\n",
      " 0.21364501 0.21550877 0.21878127 0.22344344 0.2294574  0.23676586\n",
      " 0.24529171 0.25493783 0.26558707 0.27710256 0.28932819 0.30208942\n",
      " 0.31519443 0.32843554 0.34159113 0.35442777 0.36670297 0.37816825\n",
      " 0.38857278 0.3976675  0.40520982 0.4109689  0.4147316  0.41630902\n",
      " 0.41554381 0.41231825 0.40656299 0.3982668  0.38748703 0.37436113\n",
      " 0.35911901 0.34209652 0.3237499  0.30467144 0.28560625 0.26747023\n",
      " 0.25136936 0.23862029 0.23077236 0.22963101 0.23728271 0.25612151\n",
      " 0.28887717 0.33864498]\n"
     ]
    },
    {
     "data": {
      "image/png": "[encoded data removed]",
      "text/plain": [
       "<Figure size 432x288 with 1 Axes>"
      ]
     },
     "metadata": {
      "needs_background": "light"
     },
     "output_type": "display_data"
    }
   ],
   "source": [
    "%matplotlib inline\n",
    "import numpy.polynomial.chebyshev as ch\n",
    "import matplotlib.pyplot as plt\n",
    "\n",
    "coeff = np.array([0.639841,-0.304486,-0.305489,0.517986,-0.201729,-0.196992,0.287083,-0.105506,-0.0997856,0.177995])\n",
    "x = np.arange(-1,1,0.01)\n",
    "y = ch.chebval(x,coeff)\n",
    "print(y)\n",
    "plt.plot(x,y)\n",
    "plt.show()\n",
    "\n"
   ]
  },
  {
   "cell_type": "code",
   "execution_count": null,
   "metadata": {},
   "outputs": [],
   "source": []
  }
 ],
 "metadata": {
  "kernelspec": {
   "display_name": "Python 3",
   "language": "python",
   "name": "python3"
  },
  "language_info": {
   "codemirror_mode": {
    "name": "ipython",
    "version": 3
   },
   "file_extension": ".py",
   "mimetype": "text/x-python",
   "name": "python",
   "nbconvert_exporter": "python",
   "pygments_lexer": "ipython3",
   "version": "3.7.3"
  }
 },
 "nbformat": 4,
 "nbformat_minor": 2
}
